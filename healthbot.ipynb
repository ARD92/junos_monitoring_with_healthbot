{
 "cells": [
  {
   "cell_type": "code",
   "execution_count": 1,
   "metadata": {},
   "outputs": [
    {
     "data": {
      "text/plain": [
       "'https://100.123.35.0:8080/api/v1'"
      ]
     },
     "execution_count": 1,
     "metadata": {},
     "output_type": "execute_result"
    }
   ],
   "source": [
    "# update this section with your healthbot ip and credentials\n",
    "import requests\n",
    "from requests.auth import HTTPBasicAuth\n",
    "from requests.packages.urllib3.exceptions import InsecureRequestWarning\n",
    "\n",
    "requests.packages.urllib3.disable_warnings(InsecureRequestWarning)\n",
    "\n",
    "authuser = 'jcluser'\n",
    "authpwd = 'Juniper!1'\n",
    "headers = { 'Accept' : 'application/json', 'Content-Type' : 'application/json' }\n",
    "server = '100.123.35.0'\n",
    "url = 'https://'+ server + ':8080/api/v1'\n",
    "url"
   ]
  },
  {
   "cell_type": "code",
   "execution_count": 2,
   "metadata": {},
   "outputs": [
    {
     "data": {
      "text/plain": [
       "str"
      ]
     },
     "execution_count": 2,
     "metadata": {},
     "output_type": "execute_result"
    }
   ],
   "source": [
    "# define new devices in string format\n",
    "payload_string=\"\"\"{\n",
    "\t\"device\": [{\n",
    "\t\t\"device-id\": \"vMX1\",\n",
    "\t\t\"authentication\": {\n",
    "\t\t\t\"password\": {\n",
    "\t\t\t\t\"username\": \"jcluser\",\n",
    "\t\t\t\t\"password\": \"Juniper!1\"\n",
    "\t\t\t}\n",
    "\t\t},\n",
    "\t\t\"iAgent\": {\n",
    "        \"port\": 830\n",
    "        },\n",
    "\t\t\"open-config\": {\n",
    "\t\t\t\"port\": 32767\n",
    "\t\t},\n",
    "\t\t\"host\": \"100.123.1.0\",\n",
    "\t\t\"system-id\": \"vMX1\"\n",
    "\t}, {\n",
    "\t\t\"device-id\": \"vMX2\",\n",
    "\t\t\"authentication\": {\n",
    "\t\t\t\"password\": {\n",
    "\t\t\t\t\"username\": \"jcluser\",\n",
    "\t\t\t\t\"password\": \"Juniper!1\"\n",
    "\t\t\t}\n",
    "\t\t},\n",
    "\t\t\"iAgent\": {\n",
    "        \"port\": 830\n",
    "        },\n",
    "\t\t\"open-config\": {\n",
    "\t\t\t\"port\": 32768\n",
    "\t\t},\n",
    "\t\t\"host\": \"100.123.1.1\",\n",
    "\t\t\"system-id\": \"vMX2\"\n",
    "\t}]\n",
    "}\"\"\"\n",
    "\n",
    "type(payload_string)"
   ]
  },
  {
   "cell_type": "code",
   "execution_count": 3,
   "metadata": {},
   "outputs": [
    {
     "data": {
      "text/plain": [
       "200"
      ]
     },
     "execution_count": 3,
     "metadata": {},
     "output_type": "execute_result"
    }
   ],
   "source": [
    "# add devices - string format \n",
    "r = requests.post(url + '/devices/', auth=HTTPBasicAuth(authuser, authpwd), headers=headers, verify=False, data=payload_string)\n",
    "r.status_code"
   ]
  },
  {
   "cell_type": "code",
   "execution_count": 4,
   "metadata": {},
   "outputs": [
    {
     "data": {
      "text/plain": [
       "['vMX1', 'vMX2']"
      ]
     },
     "execution_count": 4,
     "metadata": {},
     "output_type": "execute_result"
    }
   ],
   "source": [
    "# candidate configuration - list of devices\n",
    "r = requests.get(url +'/device/?working=true', auth=HTTPBasicAuth(authuser, authpwd), headers=headers, verify=False)\n",
    "r.json()"
   ]
  },
  {
   "cell_type": "code",
   "execution_count": 5,
   "metadata": {},
   "outputs": [],
   "source": [
    "# define new devices in json format\n",
    "payload_json = {\"device\": [{\"device-id\": \"vMX3\", \"authentication\": {\"password\": {\"username\": \"jcluser\", \"password\": \"Juniper!1\"}}, \"iAgent\": {\"port\": 830}, \"open-config\": {\"port\": 32767},\"host\": \"100.123.1.2\", \"system-id\": \"vMX3\"}, {\"device-id\": \"vMX4\", \"authentication\": {\"password\": {\"username\": \"jcluser\", \"password\": \"Juniper!1\"}}, \"iAgent\": {\"port\": 830}, \"open-config\": {\"port\": 32768}, \"host\": \"100.123.1.3\", \"system-id\": \"vMX3\"}]}"
   ]
  },
  {
   "cell_type": "code",
   "execution_count": 6,
   "metadata": {},
   "outputs": [
    {
     "name": "stdout",
     "output_type": "stream",
     "text": [
      "vMX3\n",
      "vMX4\n"
     ]
    }
   ],
   "source": [
    "for item in payload_json['device']: \n",
    "    print (item['device-id'])"
   ]
  },
  {
   "cell_type": "code",
   "execution_count": 7,
   "metadata": {},
   "outputs": [
    {
     "data": {
      "text/plain": [
       "200"
      ]
     },
     "execution_count": 7,
     "metadata": {},
     "output_type": "execute_result"
    }
   ],
   "source": [
    "# add devices - json format \n",
    "r = requests.post(url + '/devices/', auth=HTTPBasicAuth(authuser, authpwd), headers=headers, verify=False, json=payload_json)\n",
    "r.status_code"
   ]
  },
  {
   "cell_type": "code",
   "execution_count": 8,
   "metadata": {},
   "outputs": [
    {
     "data": {
      "text/plain": [
       "['vMX1', 'vMX2', 'vMX3', 'vMX4']"
      ]
     },
     "execution_count": 8,
     "metadata": {},
     "output_type": "execute_result"
    }
   ],
   "source": [
    "# candidate configuration - list of devices\n",
    "r = requests.get(url +'/device/?working=true', auth=HTTPBasicAuth(authuser, authpwd), headers=headers, verify=False)\n",
    "r.json()"
   ]
  },
  {
   "cell_type": "code",
   "execution_count": 9,
   "metadata": {},
   "outputs": [
    {
     "data": {
      "text/plain": [
       "200"
      ]
     },
     "execution_count": 9,
     "metadata": {},
     "output_type": "execute_result"
    }
   ],
   "source": [
    "# commit\n",
    "r = requests.post(url + '/configuration', auth=HTTPBasicAuth(authuser, authpwd), headers=headers, verify=False)\n",
    "r.status_code"
   ]
  },
  {
   "cell_type": "code",
   "execution_count": 10,
   "metadata": {},
   "outputs": [
    {
     "data": {
      "text/plain": [
       "['vMX1', 'vMX2', 'vMX3', 'vMX4']"
      ]
     },
     "execution_count": 10,
     "metadata": {},
     "output_type": "execute_result"
    }
   ],
   "source": [
    "# running configuration - list of devices\n",
    "r = requests.get(url +'/device/', auth=HTTPBasicAuth(authuser, authpwd), headers=headers, verify=False)\n",
    "r.json()"
   ]
  },
  {
   "cell_type": "code",
   "execution_count": 11,
   "metadata": {},
   "outputs": [
    {
     "data": {
      "text/plain": [
       "{'device': [{'authentication': {'password': {'password': '$9$Soolv8-VYZUHX7UHqmF3SrevM8X7-',\n",
       "     'username': 'jcluser'}},\n",
       "   'device-id': 'vMX1',\n",
       "   'host': '100.123.1.0',\n",
       "   'iAgent': {'port': 830},\n",
       "   'open-config': {'port': 32767},\n",
       "   'system-id': 'vMX1'},\n",
       "  {'authentication': {'password': {'password': '$9$km5z9A0hSe36SevW-dk.P5Tz369',\n",
       "     'username': 'jcluser'}},\n",
       "   'device-id': 'vMX2',\n",
       "   'host': '100.123.1.1',\n",
       "   'iAgent': {'port': 830},\n",
       "   'open-config': {'port': 32768},\n",
       "   'system-id': 'vMX2'},\n",
       "  {'authentication': {'password': {'password': '$9$SG1lv8-VYZUHX7UHqmF3SrevM8X7-',\n",
       "     'username': 'jcluser'}},\n",
       "   'device-id': 'vMX3',\n",
       "   'host': '100.123.1.2',\n",
       "   'iAgent': {'port': 830},\n",
       "   'open-config': {'port': 32767},\n",
       "   'system-id': 'vMX3'},\n",
       "  {'authentication': {'password': {'password': '$9$t1/b01ElK8db2cyb24aiHtuO1IEcyl',\n",
       "     'username': 'jcluser'}},\n",
       "   'device-id': 'vMX4',\n",
       "   'host': '100.123.1.3',\n",
       "   'iAgent': {'port': 830},\n",
       "   'open-config': {'port': 32768},\n",
       "   'system-id': 'vMX3'}]}"
      ]
     },
     "execution_count": 11,
     "metadata": {},
     "output_type": "execute_result"
    }
   ],
   "source": [
    "# running configuration - devices details\n",
    "r = requests.get(url + '/devices/', auth=HTTPBasicAuth(authuser, authpwd), headers=headers, verify=False)\n",
    "r.json()"
   ]
  },
  {
   "cell_type": "code",
   "execution_count": 12,
   "metadata": {},
   "outputs": [
    {
     "name": "stdout",
     "output_type": "stream",
     "text": [
      "removing device vMX1\n",
      "removing device vMX2\n",
      "removing device vMX3\n",
      "removing device vMX4\n"
     ]
    }
   ],
   "source": [
    "# remove devices \n",
    "for item in ['vMX1', 'vMX2', 'vMX3', 'vMX4']:\n",
    "    print (\"removing device \" + item)\n",
    "    r = requests.delete(url + '/device/' + item + '/', auth=HTTPBasicAuth(authuser, authpwd), headers=headers, verify=False)\n",
    "  \n"
   ]
  },
  {
   "cell_type": "code",
   "execution_count": 13,
   "metadata": {},
   "outputs": [
    {
     "data": {
      "text/plain": [
       "200"
      ]
     },
     "execution_count": 13,
     "metadata": {},
     "output_type": "execute_result"
    }
   ],
   "source": [
    "# commit\n",
    "r = requests.post(url + '/configuration', auth=HTTPBasicAuth(authuser, authpwd), headers=headers, verify=False)\n",
    "r.status_code\n"
   ]
  },
  {
   "cell_type": "code",
   "execution_count": 14,
   "metadata": {},
   "outputs": [
    {
     "data": {
      "text/plain": [
       "{'detail': 'No devices configured', 'status': 404}"
      ]
     },
     "execution_count": 14,
     "metadata": {},
     "output_type": "execute_result"
    }
   ],
   "source": [
    "# running configuration - list of devices\n",
    "r = requests.get(url +'/device/', auth=HTTPBasicAuth(authuser, authpwd), headers=headers, verify=False)\n",
    "r.json()\n"
   ]
  },
  {
   "cell_type": "code",
   "execution_count": 15,
   "metadata": {},
   "outputs": [],
   "source": [
    "# add tables and views: table bgp_sessions_state.yml\n",
    "files = {'up_file': open('tables_and_views/bgp_sessions_state.yml','r')}\n",
    "r=requests.post(url + '/files/helper-files/bgp_sessions_state.yml', auth=HTTPBasicAuth(authuser, authpwd), headers={'Accept':'application/json'}, verify=False, files=files)\n",
    "\n"
   ]
  },
  {
   "cell_type": "code",
   "execution_count": 16,
   "metadata": {},
   "outputs": [
    {
     "name": "stdout",
     "output_type": "stream",
     "text": [
      "b'---\\nbgpTable:\\n rpc: get-bgp-neighbor-information\\n item: bgp-peer\\n view: bgpView\\n key: peer-address\\n\\nbgpView:\\n fields:\\n  peer_as: peer-as\\n  flap_count: flap-count\\n  peer_state: peer-state\\n  peer_address: peer-address\\n  peer_type: peer-type\\n  \\n\\n\\n'\n"
     ]
    }
   ],
   "source": [
    "# get tables and views: table bgp_sessions_state.yml\n",
    "r=requests.get(url + '/files/helper-files/bgp_sessions_state.yml', auth=HTTPBasicAuth(authuser, authpwd), headers=headers, verify=False)\n",
    "print (r.content)\n"
   ]
  },
  {
   "cell_type": "code",
   "execution_count": null,
   "metadata": {},
   "outputs": [],
   "source": []
  }
 ],
 "metadata": {
  "kernelspec": {
   "display_name": "Python 3",
   "language": "python",
   "name": "python3"
  },
  "language_info": {
   "codemirror_mode": {
    "name": "ipython",
    "version": 3
   },
   "file_extension": ".py",
   "mimetype": "text/x-python",
   "name": "python",
   "nbconvert_exporter": "python",
   "pygments_lexer": "ipython3",
   "version": "3.5.2"
  }
 },
 "nbformat": 4,
 "nbformat_minor": 2
}
