{
 "cells": [
  {
   "cell_type": "code",
   "execution_count": 1,
   "metadata": {},
   "outputs": [
    {
     "data": {
      "text/plain": [
       "'https://10.49.102.129:8080/api/v1'"
      ]
     },
     "execution_count": 1,
     "metadata": {},
     "output_type": "execute_result"
    }
   ],
   "source": [
    "import requests\n",
    "from requests.auth import HTTPBasicAuth\n",
    "from requests.packages.urllib3.exceptions import InsecureRequestWarning\n",
    "\n",
    "requests.packages.urllib3.disable_warnings(InsecureRequestWarning)\n",
    "\n",
    "authuser = 'admin'\n",
    "authpwd = 'Embe1mpls'\n",
    "headers = { 'Accept' : 'application/json', 'Content-Type' : 'application/json' }\n",
    "server = '10.49.102.129'\n",
    "url = 'https://'+ server + ':8080/api/v1'\n",
    "url"
   ]
  },
  {
   "cell_type": "code",
   "execution_count": 2,
   "metadata": {},
   "outputs": [
    {
     "data": {
      "text/plain": [
       "str"
      ]
     },
     "execution_count": 2,
     "metadata": {},
     "output_type": "execute_result"
    }
   ],
   "source": [
    "# define new devices in string format\n",
    "payload_string=\"\"\"{\n",
    "\t\"device\": [{\n",
    "\t\t\"device-id\": \"vmx101\",\n",
    "\t\t\"authentication\": {\n",
    "\t\t\t\"password\": {\n",
    "\t\t\t\t\"username\": \"root\",\n",
    "\t\t\t\t\"password\": \"Embe1mpls\"\n",
    "\t\t\t}\n",
    "\t\t},\n",
    "\t\t\"iAgent\": {\n",
    "        \"port\": 830\n",
    "        },\n",
    "\t\t\"open-config\": {\n",
    "\t\t\t\"port\": 32767\n",
    "\t\t},\n",
    "\t\t\"host\": \"10.49.102.160\",\n",
    "\t\t\"system-id\": \"vmx101\"\n",
    "\t}, {\n",
    "\t\t\"device-id\": \"vmx102\",\n",
    "\t\t\"authentication\": {\n",
    "\t\t\t\"password\": {\n",
    "\t\t\t\t\"username\": \"root\",\n",
    "\t\t\t\t\"password\": \"Embe1mpls\"\n",
    "\t\t\t}\n",
    "\t\t},\n",
    "\t\t\"iAgent\": {\n",
    "        \"port\": 830\n",
    "        },\n",
    "\t\t\"open-config\": {\n",
    "\t\t\t\"port\": 32768\n",
    "\t\t},\n",
    "\t\t\"host\": \"10.49.102.157\",\n",
    "\t\t\"system-id\": \"vmx102\"\n",
    "\t}]\n",
    "}\"\"\"\n",
    "\n",
    "type(payload_string)"
   ]
  },
  {
   "cell_type": "code",
   "execution_count": 3,
   "metadata": {},
   "outputs": [
    {
     "data": {
      "text/plain": [
       "200"
      ]
     },
     "execution_count": 3,
     "metadata": {},
     "output_type": "execute_result"
    }
   ],
   "source": [
    "# add devices - string format \n",
    "r = requests.post(url + '/devices/', auth=HTTPBasicAuth(authuser, authpwd), headers=headers, verify=False, data=payload_string)\n",
    "r.status_code"
   ]
  },
  {
   "cell_type": "code",
   "execution_count": 4,
   "metadata": {},
   "outputs": [
    {
     "data": {
      "text/plain": [
       "[u'vmx101', u'vmx102']"
      ]
     },
     "execution_count": 4,
     "metadata": {},
     "output_type": "execute_result"
    }
   ],
   "source": [
    "# candidate configuration - list of devices\n",
    "r = requests.get(url +'/device/?working=true', auth=HTTPBasicAuth(authuser, authpwd), headers=headers, verify=False)\n",
    "r.json()"
   ]
  },
  {
   "cell_type": "code",
   "execution_count": 5,
   "metadata": {},
   "outputs": [
    {
     "data": {
      "text/plain": [
       "dict"
      ]
     },
     "execution_count": 5,
     "metadata": {},
     "output_type": "execute_result"
    }
   ],
   "source": [
    "# define new devices in json format\n",
    "payload_json = {\"device\": [{\"device-id\": \"vmx103\", \"authentication\": {\"password\": {\"username\": \"root\", \"password\": \"Embe1mpls\"}}, \"iAgent\": {\"port\": 830}, \"open-config\": {\"port\": 32767},\"host\": \"10.49.102.151\", \"system-id\": \"vmx103\"}, {\"device-id\": \"vmx104\", \"authentication\": {\"password\": {\"username\": \"root\", \"password\": \"Embe1mpls\"}}, \"iAgent\": {\"port\": 830}, \"open-config\": {\"port\": 32768}, \"host\": \"10.49.102.148\", \"system-id\": \"vmx104\"}]}\n",
    "\n",
    "type(payload_json)"
   ]
  },
  {
   "cell_type": "code",
   "execution_count": 6,
   "metadata": {},
   "outputs": [
    {
     "name": "stdout",
     "output_type": "stream",
     "text": [
      "vmx103\n",
      "vmx104\n"
     ]
    }
   ],
   "source": [
    "for item in payload_json['device']: \n",
    "    print item['device-id']"
   ]
  },
  {
   "cell_type": "code",
   "execution_count": 7,
   "metadata": {},
   "outputs": [
    {
     "data": {
      "text/plain": [
       "200"
      ]
     },
     "execution_count": 7,
     "metadata": {},
     "output_type": "execute_result"
    }
   ],
   "source": [
    "# add devices - json format \n",
    "r = requests.post(url + '/devices/', auth=HTTPBasicAuth(authuser, authpwd), headers=headers, verify=False, json=payload_json)\n",
    "r.status_code"
   ]
  },
  {
   "cell_type": "code",
   "execution_count": 8,
   "metadata": {},
   "outputs": [
    {
     "data": {
      "text/plain": [
       "[u'vmx101', u'vmx102', u'vmx103', u'vmx104']"
      ]
     },
     "execution_count": 8,
     "metadata": {},
     "output_type": "execute_result"
    }
   ],
   "source": [
    "# candidate configuration - list of devices\n",
    "r = requests.get(url +'/device/?working=true', auth=HTTPBasicAuth(authuser, authpwd), headers=headers, verify=False)\n",
    "r.json()"
   ]
  },
  {
   "cell_type": "code",
   "execution_count": 9,
   "metadata": {},
   "outputs": [
    {
     "data": {
      "text/plain": [
       "200"
      ]
     },
     "execution_count": 9,
     "metadata": {},
     "output_type": "execute_result"
    }
   ],
   "source": [
    "# commit\n",
    "r = requests.post(url + '/configuration', auth=HTTPBasicAuth(authuser, authpwd), headers=headers, verify=False)\n",
    "r.status_code"
   ]
  },
  {
   "cell_type": "code",
   "execution_count": 10,
   "metadata": {},
   "outputs": [
    {
     "data": {
      "text/plain": [
       "[u'vmx101', u'vmx102', u'vmx103', u'vmx104']"
      ]
     },
     "execution_count": 10,
     "metadata": {},
     "output_type": "execute_result"
    }
   ],
   "source": [
    "# running configuration - list of devices\n",
    "r = requests.get(url +'/device/', auth=HTTPBasicAuth(authuser, authpwd), headers=headers, verify=False)\n",
    "r.json()"
   ]
  },
  {
   "cell_type": "code",
   "execution_count": 11,
   "metadata": {},
   "outputs": [
    {
     "data": {
      "text/plain": [
       "{u'device': [{u'authentication': {u'password': {u'password': u'Embe1mpls',\n",
       "     u'username': u'root'}},\n",
       "   u'device-id': u'vmx101',\n",
       "   u'host': u'10.49.102.160',\n",
       "   u'iAgent': {u'port': 830},\n",
       "   u'open-config': {u'port': 32767},\n",
       "   u'system-id': u'vmx101'},\n",
       "  {u'authentication': {u'password': {u'password': u'Embe1mpls',\n",
       "     u'username': u'root'}},\n",
       "   u'device-id': u'vmx102',\n",
       "   u'host': u'10.49.102.157',\n",
       "   u'iAgent': {u'port': 830},\n",
       "   u'open-config': {u'port': 32768},\n",
       "   u'system-id': u'vmx102'},\n",
       "  {u'authentication': {u'password': {u'password': u'Embe1mpls',\n",
       "     u'username': u'root'}},\n",
       "   u'device-id': u'vmx103',\n",
       "   u'host': u'10.49.102.151',\n",
       "   u'iAgent': {u'port': 830},\n",
       "   u'open-config': {u'port': 32767},\n",
       "   u'system-id': u'vmx103'},\n",
       "  {u'authentication': {u'password': {u'password': u'Embe1mpls',\n",
       "     u'username': u'root'}},\n",
       "   u'device-id': u'vmx104',\n",
       "   u'host': u'10.49.102.148',\n",
       "   u'iAgent': {u'port': 830},\n",
       "   u'open-config': {u'port': 32768},\n",
       "   u'system-id': u'vmx104'}]}"
      ]
     },
     "execution_count": 11,
     "metadata": {},
     "output_type": "execute_result"
    }
   ],
   "source": [
    "# running configuration - devices details\n",
    "r = requests.get(url + '/devices/', auth=HTTPBasicAuth(authuser, authpwd), headers=headers, verify=False)\n",
    "r.json()"
   ]
  },
  {
   "cell_type": "code",
   "execution_count": 12,
   "metadata": {},
   "outputs": [
    {
     "name": "stdout",
     "output_type": "stream",
     "text": [
      "removing device vmx101\n",
      "removing device vmx102\n",
      "removing device vmx103\n",
      "removing device vmx104\n"
     ]
    }
   ],
   "source": [
    "# remove devices \n",
    "for item in ['vmx101', 'vmx102', 'vmx103', 'vmx104']:\n",
    "    print \"removing device \" + item\n",
    "    r = requests.delete(url + '/device/' + item + '/', auth=HTTPBasicAuth(authuser, authpwd), headers=headers, verify=False)\n",
    "  \n"
   ]
  },
  {
   "cell_type": "code",
   "execution_count": 13,
   "metadata": {},
   "outputs": [
    {
     "data": {
      "text/plain": [
       "200"
      ]
     },
     "execution_count": 13,
     "metadata": {},
     "output_type": "execute_result"
    }
   ],
   "source": [
    "# commit\n",
    "r = requests.post(url + '/configuration', auth=HTTPBasicAuth(authuser, authpwd), headers=headers, verify=False)\n",
    "r.status_code\n"
   ]
  },
  {
   "cell_type": "code",
   "execution_count": 14,
   "metadata": {},
   "outputs": [
    {
     "data": {
      "text/plain": [
       "{u'detail': u'No devices configured', u'status': 404}"
      ]
     },
     "execution_count": 14,
     "metadata": {},
     "output_type": "execute_result"
    }
   ],
   "source": [
    "# running configuration - list of devices\n",
    "r = requests.get(url +'/device/', auth=HTTPBasicAuth(authuser, authpwd), headers=headers, verify=False)\n",
    "r.json()\n"
   ]
  },
  {
   "cell_type": "code",
   "execution_count": 15,
   "metadata": {},
   "outputs": [
    {
     "name": "stdout",
     "output_type": "stream",
     "text": [
      "---\n",
      "OspfNeighborTable:\n",
      "  rpc: get-ospf-neighbor-information\n",
      "  args:\n",
      "    extensive: True\n",
      "  item: ospf-neighbor\n",
      "  key:\n",
      "    - neighbor-address\n",
      "  view: OspfNeighborView\n",
      "\n",
      "OspfNeighborView:\n",
      "  fields:\n",
      "    ospf_neighbor_state: ospf-neighbor-state\n",
      "    neighbor_address: neighbor-address\n",
      "    interface_name: interface-name\n",
      "    \n",
      "\n"
     ]
    }
   ],
   "source": [
    "# get tables and views\n",
    "r=requests.get(url + '/files/helper-files/' + 'ospf.yml', auth=HTTPBasicAuth(authuser, authpwd), headers=headers, verify=False)\n",
    "print r.content\n",
    "\n",
    "\n"
   ]
  },
  {
   "cell_type": "code",
   "execution_count": null,
   "metadata": {},
   "outputs": [],
   "source": []
  }
 ],
 "metadata": {
  "kernelspec": {
   "display_name": "Python 2",
   "language": "python",
   "name": "python2"
  },
  "language_info": {
   "codemirror_mode": {
    "name": "ipython",
    "version": 2
   },
   "file_extension": ".py",
   "mimetype": "text/x-python",
   "name": "python",
   "nbconvert_exporter": "python",
   "pygments_lexer": "ipython2",
   "version": "2.7.12"
  }
 },
 "nbformat": 4,
 "nbformat_minor": 2
}
